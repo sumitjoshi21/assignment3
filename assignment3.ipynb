{
 "cells": [
  {
   "cell_type": "markdown",
   "metadata": {},
   "source": [
    "# Assignment 3 "
   ]
  },
  {
   "cell_type": "markdown",
   "metadata": {},
   "source": [
    "Problem_1.1 Write a Python Program to implement your own myreduce() function which works exactly\n",
    "like Python's built-in function reduce()"
   ]
  },
  {
   "cell_type": "code",
   "execution_count": 2,
   "metadata": {},
   "outputs": [
    {
     "name": "stdout",
     "output_type": "stream",
     "text": [
      "enter : \n",
      "Please enter the number:12\n",
      "List of first n natural numbers are : [1, 2, 3, 4, 5, 6, 7, 8, 9, 10, 11, 12]\n",
      "Sum of list elements are : 78\n"
     ]
    }
   ],
   "source": [
    "def myreduce(n):\n",
    "    n_list = list(range(1,num+1))\n",
    "    sum1 =0\n",
    "    for i in n_list:\n",
    "        sum1+=i\n",
    "    return n_list,sum1\n",
    "#input \n",
    "print(\"enter : \")\n",
    "num=int(input(\"Please enter the number:\"))\n",
    "\n",
    "output=myreduce(num)\n",
    "\n",
    "#output\n",
    "print(\"List of first n natural numbers are :\",output[0])\n",
    "print(\"Sum of list elements are :\",output[1])"
   ]
  },
  {
   "cell_type": "markdown",
   "metadata": {},
   "source": [
    "# 1.2 Write a Python program to implement your own myfilter() function which works exactly like\n",
    "Python's built-in function filter()"
   ]
  },
  {
   "cell_type": "code",
   "execution_count": 8,
   "metadata": {},
   "outputs": [
    {
     "name": "stdout",
     "output_type": "stream",
     "text": [
      "Input:\n",
      "Please insert the number: 20\n",
      "Output:\n",
      "List of numbers: [1, 2, 3, 4, 5, 6, 7, 8, 9, 10, 11, 12, 13, 14, 15, 16, 17, 18, 19, 20]\n",
      "List of Even numbers, which are multiples of 7 are: [14]\n",
      "List of Odd numbers, which are multiples of 7 are: [7]\n"
     ]
    }
   ],
   "source": [
    "# Solution\n",
    "\n",
    "# Filter the even and odd number from list which are multiples  of 7\n",
    "\n",
    "#Input \n",
    "\n",
    "print(\"Input:\")\n",
    "num=int(input(\"Please insert the number: \"))\n",
    "\n",
    "n_list=list(range(1,num+1))\n",
    "\n",
    "\n",
    "def myfilter(num_list):\n",
    "    '''This function will filter even and odd numbers from list which are multiples of 5 '''\n",
    "    n_even_list=[]\n",
    "    n_odd_list=[]\n",
    "    \n",
    "    for i in num_list:\n",
    "        if(i%7==0):\n",
    "            if(i%2==0):\n",
    "                n_even_list.append(i)\n",
    "            else:\n",
    "                n_odd_list.append(i)\n",
    "                \n",
    "    return n_even_list,n_odd_list\n",
    "\n",
    "\n",
    "#Function Execution\n",
    "output=myfilter(n_list)\n",
    "\n",
    "#Output\n",
    "\n",
    "print(\"Output:\")\n",
    "print(\"List of numbers:\",num_list)\n",
    "print(\"List of Even numbers, which are multiples of 7 are:\",output[0])\n",
    "print(\"List of Odd numbers, which are multiples of 7 are:\",output[1])\n"
   ]
  },
  {
   "cell_type": "markdown",
   "metadata": {},
   "source": [
    "# Problem_2. Implement List comprehensions to produce the following lists. Write List comprehensions to produce the following Lists  ['x', 'xx', 'xxx', 'xxxx', 'y', 'yy', 'yyy', 'yyyy', 'z', 'zz', 'zzz', 'zzzz'] ['x', 'y', 'z', 'xx', 'yy', 'zz', 'xx', 'yy', 'zz', 'xxxx', 'yyyy', 'zzzz'] [[2], [3], [4], [3], [4], [5], [4], [5], [6]] [[2, 3, 4, 5], [3, 4, 5, 6], [4, 5, 6, 7], [5, 6, 7, 8]] [(1, 1), (2, 1), (3, 1), (1, 2), (2, 2), (3, 2), (1, 3), (2, 3), (3, 3)]"
   ]
  },
  {
   "cell_type": "code",
   "execution_count": 13,
   "metadata": {},
   "outputs": [
    {
     "name": "stdout",
     "output_type": "stream",
     "text": [
      "['x', 'xx', 'xxx', 'xxxx', 'y', 'yy', 'yyy', 'yyyy', 'z', 'zz', 'zzz', 'zzzz']\n",
      "['x', 'y', 'z', 'xx', 'yy', 'zz', 'xxx', 'yyy', 'zzz', 'xxxx', 'yyyy', 'zzzz']\n",
      "[[2], [3], [4], [3], [4], [5], [4], [5], [6]]\n",
      "[[2, 3, 4, 5], [3, 4, 5, 6], [4, 5, 6, 7], [5, 6, 7, 8]]\n",
      "[(1, 1), (2, 1), (3, 1), (1, 2), (2, 2), (3, 2), (1, 3), (2, 3), (3, 3)]\n"
     ]
    }
   ],
   "source": [
    "#Solution\n",
    "\n",
    "\n",
    "\n",
    "#Section 1\n",
    "w1=list('xyz')\n",
    "w2=[x*n for x in word_1 for n in range(1,5) ]\n",
    "print(w2)\n",
    "\n",
    "#Section 2\n",
    "w3=[x*n for n in range(1,5) for x in w1 ]\n",
    "print(w3)\n",
    "\n",
    "#Section 3\n",
    "num=[2,3,4]\n",
    "num1=[[x+n] for x in num for n in range(0,3)]\n",
    "print(num1)\n",
    "\n",
    "#Section 4\n",
    "num2=[2,3,4,5]\n",
    "num3=[[x+n for n in range(0,4)] for x in num2 ]\n",
    "print(num3)\n",
    "\n",
    "#Section 5\n",
    "num4=[1,2,3]\n",
    "num5= [(b,a) for a in number_4 for b in num4]\n",
    "print(num5)\n"
   ]
  },
  {
   "cell_type": "code",
   "execution_count": null,
   "metadata": {},
   "outputs": [],
   "source": []
  }
 ],
 "metadata": {
  "kernelspec": {
   "display_name": "pytensor",
   "language": "python",
   "name": "pytensor"
  },
  "language_info": {
   "codemirror_mode": {
    "name": "ipython",
    "version": 3
   },
   "file_extension": ".py",
   "mimetype": "text/x-python",
   "name": "python",
   "nbconvert_exporter": "python",
   "pygments_lexer": "ipython3",
   "version": "3.7.7"
  }
 },
 "nbformat": 4,
 "nbformat_minor": 4
}
